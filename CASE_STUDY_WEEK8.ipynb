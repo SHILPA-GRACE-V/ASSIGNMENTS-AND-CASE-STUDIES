{
 "cells": [
  {
   "cell_type": "markdown",
   "metadata": {},
   "source": [
    "##                                         Case Study on Testing of Hypothesis\n",
    "### A company started to invest in digital marketing as a new way of their product promotions.For that they collected data and decided to carry out a study on it.\n",
    "### ● The company wishes to clarify whether there is any increase in sales after stepping into digital marketing.\n",
    "### ● The company needs to check whether there is any dependency between the features “Region” and “Manager”.\n",
    "### Help the company to carry out their study with the help of data provided."
   ]
  },
  {
   "cell_type": "code",
   "execution_count": 1,
   "metadata": {},
   "outputs": [],
   "source": [
    "import pandas as pd\n",
    "data = pd.read_csv(\"Sales_add.csv\")"
   ]
  },
  {
   "cell_type": "code",
   "execution_count": 2,
   "metadata": {},
   "outputs": [
    {
     "name": "stdout",
     "output_type": "stream",
     "text": [
      "<class 'pandas.core.frame.DataFrame'>\n",
      "RangeIndex: 22 entries, 0 to 21\n",
      "Data columns (total 5 columns):\n",
      "Month                             22 non-null object\n",
      "Region                            22 non-null object\n",
      "Manager                           22 non-null object\n",
      "Sales_before_digital_add(in $)    22 non-null int64\n",
      "Sales_After_digital_add(in $)     22 non-null int64\n",
      "dtypes: int64(2), object(3)\n",
      "memory usage: 960.0+ bytes\n"
     ]
    }
   ],
   "source": [
    "data.info()"
   ]
  },
  {
   "cell_type": "markdown",
   "metadata": {},
   "source": [
    "# The company wishes to clarify whether there is any increase in sales after stepping into digital marketing"
   ]
  },
  {
   "cell_type": "code",
   "execution_count": 4,
   "metadata": {},
   "outputs": [
    {
     "data": {
      "text/html": [
       "<div>\n",
       "<style scoped>\n",
       "    .dataframe tbody tr th:only-of-type {\n",
       "        vertical-align: middle;\n",
       "    }\n",
       "\n",
       "    .dataframe tbody tr th {\n",
       "        vertical-align: top;\n",
       "    }\n",
       "\n",
       "    .dataframe thead th {\n",
       "        text-align: right;\n",
       "    }\n",
       "</style>\n",
       "<table border=\"1\" class=\"dataframe\">\n",
       "  <thead>\n",
       "    <tr style=\"text-align: right;\">\n",
       "      <th></th>\n",
       "      <th>Sales_before_digital_add(in $)</th>\n",
       "      <th>Sales_After_digital_add(in $)</th>\n",
       "    </tr>\n",
       "  </thead>\n",
       "  <tbody>\n",
       "    <tr>\n",
       "      <th>count</th>\n",
       "      <td>22.000000</td>\n",
       "      <td>22.000000</td>\n",
       "    </tr>\n",
       "    <tr>\n",
       "      <th>mean</th>\n",
       "      <td>149239.954545</td>\n",
       "      <td>231123.727273</td>\n",
       "    </tr>\n",
       "    <tr>\n",
       "      <th>std</th>\n",
       "      <td>14844.042921</td>\n",
       "      <td>25556.777061</td>\n",
       "    </tr>\n",
       "    <tr>\n",
       "      <th>min</th>\n",
       "      <td>130263.000000</td>\n",
       "      <td>187305.000000</td>\n",
       "    </tr>\n",
       "    <tr>\n",
       "      <th>25%</th>\n",
       "      <td>138087.750000</td>\n",
       "      <td>214960.750000</td>\n",
       "    </tr>\n",
       "    <tr>\n",
       "      <th>50%</th>\n",
       "      <td>147444.000000</td>\n",
       "      <td>229986.500000</td>\n",
       "    </tr>\n",
       "    <tr>\n",
       "      <th>75%</th>\n",
       "      <td>157627.500000</td>\n",
       "      <td>250909.000000</td>\n",
       "    </tr>\n",
       "    <tr>\n",
       "      <th>max</th>\n",
       "      <td>178939.000000</td>\n",
       "      <td>276279.000000</td>\n",
       "    </tr>\n",
       "  </tbody>\n",
       "</table>\n",
       "</div>"
      ],
      "text/plain": [
       "       Sales_before_digital_add(in $)  Sales_After_digital_add(in $)\n",
       "count                       22.000000                      22.000000\n",
       "mean                    149239.954545                  231123.727273\n",
       "std                      14844.042921                   25556.777061\n",
       "min                     130263.000000                  187305.000000\n",
       "25%                     138087.750000                  214960.750000\n",
       "50%                     147444.000000                  229986.500000\n",
       "75%                     157627.500000                  250909.000000\n",
       "max                     178939.000000                  276279.000000"
      ]
     },
     "execution_count": 4,
     "metadata": {},
     "output_type": "execute_result"
    }
   ],
   "source": [
    "data.describe()"
   ]
  },
  {
   "cell_type": "code",
   "execution_count": 9,
   "metadata": {},
   "outputs": [
    {
     "data": {
      "text/html": [
       "<div>\n",
       "<style scoped>\n",
       "    .dataframe tbody tr th:only-of-type {\n",
       "        vertical-align: middle;\n",
       "    }\n",
       "\n",
       "    .dataframe tbody tr th {\n",
       "        vertical-align: top;\n",
       "    }\n",
       "\n",
       "    .dataframe thead th {\n",
       "        text-align: right;\n",
       "    }\n",
       "</style>\n",
       "<table border=\"1\" class=\"dataframe\">\n",
       "  <thead>\n",
       "    <tr style=\"text-align: right;\">\n",
       "      <th></th>\n",
       "      <th>Region</th>\n",
       "      <th>Sales_before_digital_add(in $)</th>\n",
       "      <th>Sales_After_digital_add(in $)</th>\n",
       "    </tr>\n",
       "  </thead>\n",
       "  <tbody>\n",
       "    <tr>\n",
       "      <th>0</th>\n",
       "      <td>Region - A</td>\n",
       "      <td>1482049</td>\n",
       "      <td>2388531</td>\n",
       "    </tr>\n",
       "    <tr>\n",
       "      <th>1</th>\n",
       "      <td>Region - B</td>\n",
       "      <td>1053665</td>\n",
       "      <td>1601095</td>\n",
       "    </tr>\n",
       "    <tr>\n",
       "      <th>2</th>\n",
       "      <td>Region - C</td>\n",
       "      <td>747565</td>\n",
       "      <td>1095096</td>\n",
       "    </tr>\n",
       "  </tbody>\n",
       "</table>\n",
       "</div>"
      ],
      "text/plain": [
       "       Region  Sales_before_digital_add(in $)  Sales_After_digital_add(in $)\n",
       "0  Region - A                         1482049                        2388531\n",
       "1  Region - B                         1053665                        1601095\n",
       "2  Region - C                          747565                        1095096"
      ]
     },
     "execution_count": 9,
     "metadata": {},
     "output_type": "execute_result"
    }
   ],
   "source": [
    "d1=data.groupby('Region',as_index=False).sum()\n",
    "d1"
   ]
  },
  {
   "cell_type": "markdown",
   "metadata": {},
   "source": [
    "We can see that mean and standard deviation of sales before digital and after the digital is increased."
   ]
  },
  {
   "cell_type": "markdown",
   "metadata": {},
   "source": [
    "H0:There is no diffrence in sales after digital marketing\n",
    "\n",
    "H1:There is increase in sales after digital marketing"
   ]
  },
  {
   "cell_type": "code",
   "execution_count": 12,
   "metadata": {},
   "outputs": [
    {
     "name": "stdout",
     "output_type": "stream",
     "text": [
      "6.336667004575778e-11\n",
      "reject null hypothesis\n"
     ]
    }
   ],
   "source": [
    "#Paired sampled t-test\n",
    "ttest,pval = stats.ttest_rel(data['Sales_before_digital_add(in $)'], data['Sales_After_digital_add(in $)'])\n",
    "print(pval)\n",
    "if pval<0.05:\n",
    "    print(\"reject null hypothesis\")\n",
    "else:\n",
    "    print(\"accept null hypothesis\")"
   ]
  },
  {
   "cell_type": "markdown",
   "metadata": {},
   "source": [
    "So can conclude that there is an increase in the sales after the digital marketing"
   ]
  },
  {
   "cell_type": "markdown",
   "metadata": {},
   "source": [
    "# The company needs to check whether there is any dependency between the features \"Region\" and \"Manager\"."
   ]
  },
  {
   "cell_type": "markdown",
   "metadata": {},
   "source": [
    "H0: There is no dependancy between Region & Manager\n",
    "\n",
    "H1: There is dependancy between Region & Manager"
   ]
  },
  {
   "cell_type": "code",
   "execution_count": 14,
   "metadata": {},
   "outputs": [
    {
     "data": {
      "text/html": [
       "<div>\n",
       "<style scoped>\n",
       "    .dataframe tbody tr th:only-of-type {\n",
       "        vertical-align: middle;\n",
       "    }\n",
       "\n",
       "    .dataframe tbody tr th {\n",
       "        vertical-align: top;\n",
       "    }\n",
       "\n",
       "    .dataframe thead th {\n",
       "        text-align: right;\n",
       "    }\n",
       "</style>\n",
       "<table border=\"1\" class=\"dataframe\">\n",
       "  <thead>\n",
       "    <tr style=\"text-align: right;\">\n",
       "      <th>Manager</th>\n",
       "      <th>Manager - A</th>\n",
       "      <th>Manager - B</th>\n",
       "      <th>Manager - C</th>\n",
       "    </tr>\n",
       "    <tr>\n",
       "      <th>Region</th>\n",
       "      <th></th>\n",
       "      <th></th>\n",
       "      <th></th>\n",
       "    </tr>\n",
       "  </thead>\n",
       "  <tbody>\n",
       "    <tr>\n",
       "      <th>Region - A</th>\n",
       "      <td>4</td>\n",
       "      <td>3</td>\n",
       "      <td>3</td>\n",
       "    </tr>\n",
       "    <tr>\n",
       "      <th>Region - B</th>\n",
       "      <td>4</td>\n",
       "      <td>1</td>\n",
       "      <td>2</td>\n",
       "    </tr>\n",
       "    <tr>\n",
       "      <th>Region - C</th>\n",
       "      <td>1</td>\n",
       "      <td>3</td>\n",
       "      <td>1</td>\n",
       "    </tr>\n",
       "  </tbody>\n",
       "</table>\n",
       "</div>"
      ],
      "text/plain": [
       "Manager     Manager - A  Manager - B  Manager - C\n",
       "Region                                           \n",
       "Region - A            4            3            3\n",
       "Region - B            4            1            2\n",
       "Region - C            1            3            1"
      ]
     },
     "execution_count": 14,
     "metadata": {},
     "output_type": "execute_result"
    }
   ],
   "source": [
    "## contingency table between region and manager.\n",
    "pd.crosstab(data.Region, data.Manager)"
   ]
  },
  {
   "cell_type": "code",
   "execution_count": 15,
   "metadata": {},
   "outputs": [],
   "source": [
    "## loading chi2_contingency\n",
    "from scipy.stats import chi2_contingency"
   ]
  },
  {
   "cell_type": "code",
   "execution_count": 16,
   "metadata": {},
   "outputs": [],
   "source": [
    "chi, p, dof, expected = chi2_contingency(pd.crosstab(data.Region, data.Manager))"
   ]
  },
  {
   "cell_type": "code",
   "execution_count": 19,
   "metadata": {},
   "outputs": [
    {
     "name": "stdout",
     "output_type": "stream",
     "text": [
      "3.050566893424036\n",
      "4\n",
      "[[4.09090909 3.18181818 2.72727273]\n",
      " [2.86363636 2.22727273 1.90909091]\n",
      " [2.04545455 1.59090909 1.36363636]]\n",
      "0.5493991051158094\n"
     ]
    }
   ],
   "source": [
    "## the test statistic.\n",
    "print(chi)\n",
    "## degree of freedom\n",
    "print(dof)\n",
    "## expected frequencies\n",
    "print(expected)\n",
    "## p value\n",
    "print(p)"
   ]
  },
  {
   "cell_type": "markdown",
   "metadata": {},
   "source": [
    "P greather than 0.05 therefore we cannot neglect NULL hypothesis which stated they are independent.So they are independent."
   ]
  },
  {
   "cell_type": "code",
   "execution_count": null,
   "metadata": {},
   "outputs": [],
   "source": []
  }
 ],
 "metadata": {
  "kernelspec": {
   "display_name": "Python 3",
   "language": "python",
   "name": "python3"
  },
  "language_info": {
   "codemirror_mode": {
    "name": "ipython",
    "version": 3
   },
   "file_extension": ".py",
   "mimetype": "text/x-python",
   "name": "python",
   "nbconvert_exporter": "python",
   "pygments_lexer": "ipython3",
   "version": "3.7.3"
  }
 },
 "nbformat": 4,
 "nbformat_minor": 2
}
